{
 "cells": [
  {
   "cell_type": "code",
   "execution_count": 5,
   "metadata": {},
   "outputs": [],
   "source": [
    "import numpy as np\n",
    "import pandas as pd\n",
    "import matplotlib.pyplot as plt\n",
    "import os\n",
    "import cartopy.crs as ccrs\n",
    "import cartopy.io.shapereader as shpreader"
   ]
  },
  {
   "cell_type": "code",
   "execution_count": 10,
   "metadata": {
    "scrolled": true
   },
   "outputs": [
    {
     "name": "stderr",
     "output_type": "stream",
     "text": [
      "/usr/local/lib/python3.9/site-packages/IPython/core/interactiveshell.py:3146: DtypeWarning: Columns (9,12,18) have mixed types.Specify dtype option on import or set low_memory=False.\n",
      "  has_raised = await self.run_ast_nodes(code_ast.body, cell_name,\n"
     ]
    }
   ],
   "source": [
    "path = os.getcwd()\n",
    "data = pd.read_csv(path+\"/preprocessed_dataset.csv\")"
   ]
  },
  {
   "cell_type": "code",
   "execution_count": 12,
   "metadata": {},
   "outputs": [
    {
     "data": {
      "text/html": [
       "<div>\n",
       "<style scoped>\n",
       "    .dataframe tbody tr th:only-of-type {\n",
       "        vertical-align: middle;\n",
       "    }\n",
       "\n",
       "    .dataframe tbody tr th {\n",
       "        vertical-align: top;\n",
       "    }\n",
       "\n",
       "    .dataframe thead th {\n",
       "        text-align: right;\n",
       "    }\n",
       "</style>\n",
       "<table border=\"1\" class=\"dataframe\">\n",
       "  <thead>\n",
       "    <tr style=\"text-align: right;\">\n",
       "      <th></th>\n",
       "      <th>LoanNr_ChkDgt</th>\n",
       "      <th>Name</th>\n",
       "      <th>City</th>\n",
       "      <th>State</th>\n",
       "      <th>Zip</th>\n",
       "      <th>Bank</th>\n",
       "      <th>BankState</th>\n",
       "      <th>NAICS</th>\n",
       "      <th>ApprovalDate</th>\n",
       "      <th>ApprovalFY</th>\n",
       "      <th>...</th>\n",
       "      <th>MIS_Status</th>\n",
       "      <th>ChgOffPrinGr</th>\n",
       "      <th>GrAppv</th>\n",
       "      <th>SBA_Appv</th>\n",
       "      <th>Portion</th>\n",
       "      <th>DaysToDisboursment</th>\n",
       "      <th>DayStream</th>\n",
       "      <th>EndOfLoanDate</th>\n",
       "      <th>DaysToDefault</th>\n",
       "      <th>Recession</th>\n",
       "    </tr>\n",
       "  </thead>\n",
       "  <tbody>\n",
       "    <tr>\n",
       "      <th>0</th>\n",
       "      <td>1004255009</td>\n",
       "      <td>Leo Arretin, Inc.</td>\n",
       "      <td>LOS ANGELES</td>\n",
       "      <td>CA</td>\n",
       "      <td>90013</td>\n",
       "      <td>CALIFORNIA BANK &amp; TRUST</td>\n",
       "      <td>CA</td>\n",
       "      <td>422120</td>\n",
       "      <td>2001-03-13</td>\n",
       "      <td>2001</td>\n",
       "      <td>...</td>\n",
       "      <td>0</td>\n",
       "      <td>0</td>\n",
       "      <td>50000</td>\n",
       "      <td>25000</td>\n",
       "      <td>0.5</td>\n",
       "      <td>383</td>\n",
       "      <td>1080</td>\n",
       "      <td>2005-03-15</td>\n",
       "      <td>NaN</td>\n",
       "      <td>0</td>\n",
       "    </tr>\n",
       "    <tr>\n",
       "      <th>1</th>\n",
       "      <td>1004315003</td>\n",
       "      <td>TRI-COUNTY AMBULANCE SERV. INC</td>\n",
       "      <td>NAPPANEE</td>\n",
       "      <td>IN</td>\n",
       "      <td>46550</td>\n",
       "      <td>KEY DIRECT, A BRANCH OF</td>\n",
       "      <td>OH</td>\n",
       "      <td>621910</td>\n",
       "      <td>2001-04-09</td>\n",
       "      <td>2001</td>\n",
       "      <td>...</td>\n",
       "      <td>0</td>\n",
       "      <td>0</td>\n",
       "      <td>119000</td>\n",
       "      <td>59500</td>\n",
       "      <td>0.5</td>\n",
       "      <td>82</td>\n",
       "      <td>1800</td>\n",
       "      <td>2006-06-04</td>\n",
       "      <td>NaN</td>\n",
       "      <td>0</td>\n",
       "    </tr>\n",
       "    <tr>\n",
       "      <th>2</th>\n",
       "      <td>1004335009</td>\n",
       "      <td>P &amp; J ENTERPRISE</td>\n",
       "      <td>MISSION VIEJO</td>\n",
       "      <td>CA</td>\n",
       "      <td>92691</td>\n",
       "      <td>CALIFORNIA BANK &amp; TRUST</td>\n",
       "      <td>CA</td>\n",
       "      <td>421690</td>\n",
       "      <td>2001-04-12</td>\n",
       "      <td>2001</td>\n",
       "      <td>...</td>\n",
       "      <td>0</td>\n",
       "      <td>0</td>\n",
       "      <td>50000</td>\n",
       "      <td>25000</td>\n",
       "      <td>0.5</td>\n",
       "      <td>475</td>\n",
       "      <td>1080</td>\n",
       "      <td>2005-07-15</td>\n",
       "      <td>NaN</td>\n",
       "      <td>0</td>\n",
       "    </tr>\n",
       "    <tr>\n",
       "      <th>3</th>\n",
       "      <td>1004385002</td>\n",
       "      <td>ARTEMIS, A DESIGN AGENCY</td>\n",
       "      <td>SAN DIEGO</td>\n",
       "      <td>CA</td>\n",
       "      <td>92130</td>\n",
       "      <td>CALIFORNIA BANK &amp; TRUST</td>\n",
       "      <td>CA</td>\n",
       "      <td>541430</td>\n",
       "      <td>2001-04-30</td>\n",
       "      <td>2001</td>\n",
       "      <td>...</td>\n",
       "      <td>0</td>\n",
       "      <td>0</td>\n",
       "      <td>25000</td>\n",
       "      <td>12500</td>\n",
       "      <td>0.5</td>\n",
       "      <td>92</td>\n",
       "      <td>1080</td>\n",
       "      <td>2004-07-15</td>\n",
       "      <td>NaN</td>\n",
       "      <td>0</td>\n",
       "    </tr>\n",
       "    <tr>\n",
       "      <th>4</th>\n",
       "      <td>1004415009</td>\n",
       "      <td>WILLIAMS-WALLACE MANAGEMENT CO</td>\n",
       "      <td>OAKLAND</td>\n",
       "      <td>CA</td>\n",
       "      <td>94612</td>\n",
       "      <td>CALIFORNIA BANK &amp; TRUST</td>\n",
       "      <td>CA</td>\n",
       "      <td>541519</td>\n",
       "      <td>2001-04-30</td>\n",
       "      <td>2001</td>\n",
       "      <td>...</td>\n",
       "      <td>0</td>\n",
       "      <td>0</td>\n",
       "      <td>50000</td>\n",
       "      <td>25000</td>\n",
       "      <td>0.5</td>\n",
       "      <td>31</td>\n",
       "      <td>1080</td>\n",
       "      <td>2004-05-15</td>\n",
       "      <td>NaN</td>\n",
       "      <td>0</td>\n",
       "    </tr>\n",
       "  </tbody>\n",
       "</table>\n",
       "<p>5 rows × 32 columns</p>\n",
       "</div>"
      ],
      "text/plain": [
       "   LoanNr_ChkDgt                            Name           City State    Zip  \\\n",
       "0     1004255009               Leo Arretin, Inc.    LOS ANGELES    CA  90013   \n",
       "1     1004315003  TRI-COUNTY AMBULANCE SERV. INC       NAPPANEE    IN  46550   \n",
       "2     1004335009                P & J ENTERPRISE  MISSION VIEJO    CA  92691   \n",
       "3     1004385002        ARTEMIS, A DESIGN AGENCY      SAN DIEGO    CA  92130   \n",
       "4     1004415009  WILLIAMS-WALLACE MANAGEMENT CO        OAKLAND    CA  94612   \n",
       "\n",
       "                      Bank BankState   NAICS ApprovalDate ApprovalFY  ...  \\\n",
       "0  CALIFORNIA BANK & TRUST        CA  422120   2001-03-13       2001  ...   \n",
       "1  KEY DIRECT, A BRANCH OF        OH  621910   2001-04-09       2001  ...   \n",
       "2  CALIFORNIA BANK & TRUST        CA  421690   2001-04-12       2001  ...   \n",
       "3  CALIFORNIA BANK & TRUST        CA  541430   2001-04-30       2001  ...   \n",
       "4  CALIFORNIA BANK & TRUST        CA  541519   2001-04-30       2001  ...   \n",
       "\n",
       "   MIS_Status  ChgOffPrinGr  GrAppv  SBA_Appv  Portion  DaysToDisboursment  \\\n",
       "0           0             0   50000     25000      0.5                 383   \n",
       "1           0             0  119000     59500      0.5                  82   \n",
       "2           0             0   50000     25000      0.5                 475   \n",
       "3           0             0   25000     12500      0.5                  92   \n",
       "4           0             0   50000     25000      0.5                  31   \n",
       "\n",
       "   DayStream  EndOfLoanDate DaysToDefault Recession  \n",
       "0       1080     2005-03-15           NaN         0  \n",
       "1       1800     2006-06-04           NaN         0  \n",
       "2       1080     2005-07-15           NaN         0  \n",
       "3       1080     2004-07-15           NaN         0  \n",
       "4       1080     2004-05-15           NaN         0  \n",
       "\n",
       "[5 rows x 32 columns]"
      ]
     },
     "execution_count": 12,
     "metadata": {},
     "output_type": "execute_result"
    }
   ],
   "source": [
    "data.head()"
   ]
  },
  {
   "cell_type": "code",
   "execution_count": 92,
   "metadata": {},
   "outputs": [
    {
     "name": "stdout",
     "output_type": "stream",
     "text": [
      "<class 'pandas.core.frame.DataFrame'>\n",
      "RangeIndex: 887045 entries, 0 to 887044\n",
      "Data columns (total 32 columns):\n",
      " #   Column              Non-Null Count   Dtype  \n",
      "---  ------              --------------   -----  \n",
      " 0   LoanNr_ChkDgt       887045 non-null  int64  \n",
      " 1   Name                887031 non-null  object \n",
      " 2   City                887018 non-null  object \n",
      " 3   State               887034 non-null  object \n",
      " 4   Zip                 887045 non-null  int64  \n",
      " 5   Bank                885573 non-null  object \n",
      " 6   BankState           885566 non-null  object \n",
      " 7   NAICS               887045 non-null  int64  \n",
      " 8   ApprovalDate        887045 non-null  object \n",
      " 9   ApprovalFY          887045 non-null  object \n",
      " 10  Term                887045 non-null  int64  \n",
      " 11  NoEmp               887045 non-null  int64  \n",
      " 12  NewExist            887045 non-null  object \n",
      " 13  CreateJob           887045 non-null  int64  \n",
      " 14  RetainedJob         887045 non-null  int64  \n",
      " 15  FranchiseCode       887045 non-null  int64  \n",
      " 16  UrbanRural          887045 non-null  int64  \n",
      " 17  LowDoc              887045 non-null  int64  \n",
      " 18  ChgOffDate          161236 non-null  object \n",
      " 19  DisbursementDate    887045 non-null  object \n",
      " 20  DisbursementGross   887045 non-null  int64  \n",
      " 21  BalanceGross        887045 non-null  int64  \n",
      " 22  MIS_Status          887045 non-null  int64  \n",
      " 23  ChgOffPrinGr        887045 non-null  int64  \n",
      " 24  GrAppv              887045 non-null  int64  \n",
      " 25  SBA_Appv            887045 non-null  int64  \n",
      " 26  Portion             887045 non-null  float64\n",
      " 27  DaysToDisboursment  887045 non-null  int64  \n",
      " 28  DayStream           887045 non-null  int64  \n",
      " 29  EndOfLoanDate       887045 non-null  object \n",
      " 30  DaysToDefault       161236 non-null  float64\n",
      " 31  Recession           887045 non-null  int64  \n",
      "dtypes: float64(2), int64(19), object(11)\n",
      "memory usage: 216.6+ MB\n"
     ]
    }
   ],
   "source": [
    "data.info()"
   ]
  },
  {
   "cell_type": "code",
   "execution_count": 152,
   "metadata": {},
   "outputs": [
    {
     "data": {
      "text/plain": [
       "CA    127272\n",
       "TX     69426\n",
       "NY     57278\n",
       "FL     40552\n",
       "PA     34899\n",
       "OH     32367\n",
       "IL     29340\n",
       "MA     24608\n",
       "MN     24259\n",
       "NJ     23856\n",
       "WA     22960\n",
       "GA     21155\n",
       "WI     20954\n",
       "MO     20550\n",
       "CO     20405\n",
       "MI     20371\n",
       "UT     18682\n",
       "AZ     17352\n",
       "NC     14186\n",
       "IN     14041\n",
       "MD     13179\n",
       "VA     12805\n",
       "CT     12074\n",
       "NH     12051\n",
       "IA     11905\n",
       "KS     11360\n",
       "OR     10939\n",
       "OK      9853\n",
       "LA      9492\n",
       "ID      9426\n",
       "TN      9309\n",
       "RI      8973\n",
       "MT      8702\n",
       "AL      8291\n",
       "NV      7944\n",
       "KY      7658\n",
       "MS      7620\n",
       "NE      6328\n",
       "AR      6277\n",
       "NM      5990\n",
       "ME      5907\n",
       "SC      5549\n",
       "VT      5430\n",
       "ND      5228\n",
       "SD      4371\n",
       "HI      3583\n",
       "WV      3269\n",
       "WY      2820\n",
       "AK      2387\n",
       "DE      2198\n",
       "DC      1603\n",
       "Name: State, dtype: int64"
      ]
     },
     "execution_count": 152,
     "metadata": {},
     "output_type": "execute_result"
    }
   ],
   "source": [
    "data[\"State\"].value_counts()"
   ]
  },
  {
   "cell_type": "code",
   "execution_count": 44,
   "metadata": {},
   "outputs": [
    {
     "name": "stdout",
     "output_type": "stream",
     "text": [
      "51\n"
     ]
    }
   ],
   "source": [
    "print(len(data[\"State\"].value_counts()))"
   ]
  },
  {
   "cell_type": "code",
   "execution_count": 47,
   "metadata": {},
   "outputs": [
    {
     "name": "stdout",
     "output_type": "stream",
     "text": [
      "Minnesota\n",
      "Montana\n",
      "North Dakota\n",
      "Hawaii\n",
      "Idaho\n",
      "Washington\n",
      "Arizona\n",
      "California\n",
      "Colorado\n",
      "Nevada\n",
      "New Mexico\n",
      "Oregon\n",
      "Utah\n",
      "Wyoming\n",
      "Arkansas\n",
      "Iowa\n",
      "Kansas\n",
      "Missouri\n",
      "Nebraska\n",
      "Oklahoma\n",
      "South Dakota\n",
      "Louisiana\n",
      "Texas\n",
      "Connecticut\n",
      "Massachusetts\n",
      "New Hampshire\n",
      "Rhode Island\n",
      "Vermont\n",
      "Alabama\n",
      "Florida\n",
      "Georgia\n",
      "Mississippi\n",
      "South Carolina\n",
      "Illinois\n",
      "Indiana\n",
      "Kentucky\n",
      "North Carolina\n",
      "Ohio\n",
      "Tennessee\n",
      "Virginia\n",
      "Wisconsin\n",
      "West Virginia\n",
      "Delaware\n",
      "District of Columbia\n",
      "Maryland\n",
      "New Jersey\n",
      "New York\n",
      "Pennsylvania\n",
      "Maine\n",
      "Michigan\n",
      "Alaska\n",
      "\n",
      "51\n"
     ]
    }
   ],
   "source": [
    "shapename = 'admin_1_states_provinces_lakes_shp'\n",
    "states_shp = shpreader.natural_earth(resolution='110m', category='cultural', name=shapename)\n",
    "\n",
    "i = 0\n",
    "l = []\n",
    "for state in shpreader.Reader(states_shp).records():\n",
    "    i += 1\n",
    "    l.append(state.attributes['name'])\n",
    "    print(state.attributes['name'])\n",
    "print()\n",
    "print(i)\n",
    "l.sort()"
   ]
  },
  {
   "cell_type": "code",
   "execution_count": 53,
   "metadata": {},
   "outputs": [
    {
     "data": {
      "text/plain": [
       "['Alabama',\n",
       " 'Alaska',\n",
       " 'Arizona',\n",
       " 'Arkansas',\n",
       " 'California',\n",
       " 'Colorado',\n",
       " 'Connecticut',\n",
       " 'Delaware',\n",
       " 'District of Columbia',\n",
       " 'Florida',\n",
       " 'Georgia',\n",
       " 'Hawaii',\n",
       " 'Idaho',\n",
       " 'Illinois',\n",
       " 'Indiana',\n",
       " 'Iowa',\n",
       " 'Kansas',\n",
       " 'Kentucky',\n",
       " 'Louisiana',\n",
       " 'Maine',\n",
       " 'Maryland',\n",
       " 'Massachusetts',\n",
       " 'Michigan',\n",
       " 'Minnesota',\n",
       " 'Mississippi',\n",
       " 'Missouri',\n",
       " 'Montana',\n",
       " 'Nebraska',\n",
       " 'Nevada',\n",
       " 'New Hampshire',\n",
       " 'New Jersey',\n",
       " 'New Mexico',\n",
       " 'New York',\n",
       " 'North Carolina',\n",
       " 'North Dakota',\n",
       " 'Ohio',\n",
       " 'Oklahoma',\n",
       " 'Oregon',\n",
       " 'Pennsylvania',\n",
       " 'Rhode Island',\n",
       " 'South Carolina',\n",
       " 'South Dakota',\n",
       " 'Tennessee',\n",
       " 'Texas',\n",
       " 'Utah',\n",
       " 'Vermont',\n",
       " 'Virginia',\n",
       " 'Washington',\n",
       " 'West Virginia',\n",
       " 'Wisconsin',\n",
       " 'Wyoming']"
      ]
     },
     "execution_count": 53,
     "metadata": {},
     "output_type": "execute_result"
    }
   ],
   "source": [
    "l"
   ]
  },
  {
   "cell_type": "code",
   "execution_count": 136,
   "metadata": {},
   "outputs": [],
   "source": [
    "us_state_abbrev = {\n",
    "    'AL': 'Alabama',\n",
    "    'AK': 'Alaska',\n",
    "    'AZ': 'Arizona',\n",
    "    'AR': 'Arkansas',\n",
    "    'CA': 'California',\n",
    "    'CO': 'Colorado',\n",
    "    'CT': 'Connecticut',\n",
    "    'DE': 'Delaware',\n",
    "    'DC': 'District of Columbia',\n",
    "    'FL': 'Florida',\n",
    "    'GA': 'Georgia',\n",
    "    'HI': 'Hawaii',\n",
    "    'ID': 'Idaho',\n",
    "    'IL': 'Illinois',\n",
    "    'IN': 'Indiana',\n",
    "    'IA': 'Iowa',\n",
    "    'KS': 'Kansas',\n",
    "    'KY': 'Kentucky',\n",
    "    'LA': 'Louisiana',\n",
    "    'ME': 'Maine',\n",
    "    'MD': 'Maryland',\n",
    "    'MA': 'Massachusetts',\n",
    "    'MI': 'Michigan',\n",
    "    'MN': 'Minnesota',\n",
    "    'MS': 'Mississippi',\n",
    "    'MO': 'Missouri',\n",
    "    'MT': 'Montana',\n",
    "    'NE': 'Nebraska',\n",
    "    'NV': 'Nevada',\n",
    "    'NH': 'New Hampshire',\n",
    "    'NJ': 'New Jersey',\n",
    "    'NM': 'New Mexico',\n",
    "    'NY': 'New York',\n",
    "    'NC': 'North Carolina',\n",
    "    'ND': 'North Dakota',\n",
    "    'OH': 'Ohio',\n",
    "    'OK': 'Oklahoma',\n",
    "    'OR': 'Oregon',\n",
    "    'PA': 'Pennsylvania',\n",
    "    'RI': 'Rhode Island',\n",
    "    'SC': 'South Carolina',\n",
    "    'SD': 'South Dakota',\n",
    "    'TN': 'Tennessee',\n",
    "    'TX': 'Texas',\n",
    "    'UT': 'Utah',\n",
    "    'VT': 'Vermont',\n",
    "    'VA': 'Virginia',\n",
    "    'WA': 'Washington',\n",
    "    'WV': 'West Virginia',\n",
    "    'WI': 'Wisconsin',\n",
    "    'WY': 'Wyoming'\n",
    "}\n",
    "\n",
    "state_abbrev_1 = []\n",
    "for state in us_state_abbrev:\n",
    "    state_abbrev_1.append(state)\n",
    "state_abbrev_1.sort()\n",
    "state_abbrev_1 = np.array(state_abbrev_1, dtype='<U2')"
   ]
  },
  {
   "cell_type": "code",
   "execution_count": 137,
   "metadata": {},
   "outputs": [
    {
     "data": {
      "text/plain": [
       "array(['AK', 'AL', 'AR', 'AZ', 'CA', 'CO', 'CT', 'DC', 'DE', 'FL', 'GA',\n",
       "       'HI', 'IA', 'ID', 'IL', 'IN', 'KS', 'KY', 'LA', 'MA', 'MD', 'ME',\n",
       "       'MI', 'MN', 'MO', 'MS', 'MT', 'NC', 'ND', 'NE', 'NH', 'NJ', 'NM',\n",
       "       'NV', 'NY', 'OH', 'OK', 'OR', 'PA', 'RI', 'SC', 'SD', 'TN', 'TX',\n",
       "       'UT', 'VA', 'VT', 'WA', 'WI', 'WV', 'WY'], dtype='<U2')"
      ]
     },
     "execution_count": 137,
     "metadata": {},
     "output_type": "execute_result"
    }
   ],
   "source": [
    "state_abbrev_1"
   ]
  },
  {
   "cell_type": "code",
   "execution_count": 138,
   "metadata": {},
   "outputs": [
    {
     "data": {
      "text/plain": [
       "array(['AK', 'AL', 'AR', 'AZ', 'CA', 'CO', 'CT', 'DC', 'DE', 'FL', 'GA',\n",
       "       'HI', 'IA', 'ID', 'IL', 'IN', 'KS', 'KY', 'LA', 'MA', 'MD', 'ME',\n",
       "       'MI', 'MN', 'MO', 'MS', 'MT', 'NC', 'ND', 'NE', 'NH', 'NJ', 'NM',\n",
       "       'NV', 'NY', 'OH', 'OK', 'OR', 'PA', 'RI', 'SC', 'SD', 'TN', 'TX',\n",
       "       'UT', 'VA', 'VT', 'WA', 'WI', 'WV', 'WY', 'na'], dtype='<U2')"
      ]
     },
     "execution_count": 138,
     "metadata": {},
     "output_type": "execute_result"
    }
   ],
   "source": [
    "np.sort(np.array(data[\"State\"].unique(), dtype='<U2'))"
   ]
  },
  {
   "cell_type": "code",
   "execution_count": 139,
   "metadata": {},
   "outputs": [
    {
     "data": {
      "text/plain": [
       "False"
      ]
     },
     "execution_count": 139,
     "metadata": {},
     "output_type": "execute_result"
    }
   ],
   "source": [
    "np.array_equal(state_abbrev_1, np.sort(np.array(data[\"State\"].unique(), dtype='<U2')))"
   ]
  },
  {
   "cell_type": "code",
   "execution_count": 144,
   "metadata": {},
   "outputs": [],
   "source": [
    "default_rate = {}\n",
    "\n",
    "for state in us_state_abbrev.values():\n",
    "    default_rate[state] = 0\n",
    "    \n",
    "for i in range(len(data)):\n",
    "    if data[\"State\"][i] in us_state_abbrev:\n",
    "        default_rate[us_state_abbrev[data[\"State\"][i]]] += data[\"MIS_Status\"][i]\n",
    "\n",
    "for state in us_state_abbrev:\n",
    "    default_rate[us_state_abbrev[state]] = default_rate[us_state_abbrev[state]] / data[\"State\"].value_counts()[state]"
   ]
  },
  {
   "cell_type": "code",
   "execution_count": 145,
   "metadata": {},
   "outputs": [
    {
     "data": {
      "text/plain": [
       "{'Alabama': 0.1727174044144253,\n",
       " 'Alaska': 0.11311269375785504,\n",
       " 'Arizona': 0.21328953434762563,\n",
       " 'Arkansas': 0.16950772662099728,\n",
       " 'California': 0.1927368156389465,\n",
       " 'Colorado': 0.17995589316344032,\n",
       " 'Connecticut': 0.1439456683783336,\n",
       " 'Delaware': 0.18562329390354868,\n",
       " 'District of Columbia': 0.2694946974422957,\n",
       " 'Florida': 0.2849921088972184,\n",
       " 'Georgia': 0.2546442921295202,\n",
       " 'Hawaii': 0.15964275746581078,\n",
       " 'Idaho': 0.14279652026310205,\n",
       " 'Illinois': 0.2322085889570552,\n",
       " 'Indiana': 0.17997293640054127,\n",
       " 'Iowa': 0.11667366652666947,\n",
       " 'Kansas': 0.1329225352112676,\n",
       " 'Kentucky': 0.19809349699660486,\n",
       " 'Louisiana': 0.1903708386009271,\n",
       " 'Maine': 0.09920433384120535,\n",
       " 'Maryland': 0.2132179983306776,\n",
       " 'Massachusetts': 0.13536248374512352,\n",
       " 'Michigan': 0.23018015806784153,\n",
       " 'Minnesota': 0.11863638237355209,\n",
       " 'Mississippi': 0.16391076115485564,\n",
       " 'Missouri': 0.15552311435523114,\n",
       " 'Montana': 0.06871983452079981,\n",
       " 'Nebraska': 0.11362199747155499,\n",
       " 'Nevada': 0.23829305135951662,\n",
       " 'New Hampshire': 0.10903659447348768,\n",
       " 'New Jersey': 0.20829141515761235,\n",
       " 'New Mexico': 0.11018363939899833,\n",
       " 'New York': 0.20512238555815496,\n",
       " 'North Carolina': 0.2017482024531228,\n",
       " 'North Dakota': 0.07498087222647284,\n",
       " 'Ohio': 0.16699107115271727,\n",
       " 'Oklahoma': 0.16045874352988937,\n",
       " 'Oregon': 0.1551330103300119,\n",
       " 'Pennsylvania': 0.15043410985988137,\n",
       " 'Rhode Island': 0.11679482893123816,\n",
       " 'South Carolina': 0.21355199134979275,\n",
       " 'South Dakota': 0.07709906199954245,\n",
       " 'Tennessee': 0.220324417230637,\n",
       " 'Texas': 0.1938898971566848,\n",
       " 'Utah': 0.1788887699389787,\n",
       " 'Vermont': 0.07587476979742173,\n",
       " 'Virginia': 0.20132760640374853,\n",
       " 'Washington': 0.14398954703832753,\n",
       " 'West Virginia': 0.16977669011930255,\n",
       " 'Wisconsin': 0.12436766249880692,\n",
       " 'Wyoming': 0.07092198581560284}"
      ]
     },
     "execution_count": 145,
     "metadata": {},
     "output_type": "execute_result"
    }
   ],
   "source": [
    "default_rate"
   ]
  },
  {
   "cell_type": "code",
   "execution_count": 196,
   "metadata": {},
   "outputs": [
    {
     "data": {
      "text/plain": [
       "0.2849921088972184"
      ]
     },
     "execution_count": 196,
     "metadata": {},
     "output_type": "execute_result"
    }
   ],
   "source": [
    "max(default_rate.values())"
   ]
  },
  {
   "cell_type": "code",
   "execution_count": 162,
   "metadata": {},
   "outputs": [],
   "source": [
    "newexist_rate = {}\n",
    "\n",
    "for state in us_state_abbrev.values():\n",
    "    newexist_rate[state] = 0\n",
    "    \n",
    "for i in range(len(data)):\n",
    "    if data[\"State\"][i] in us_state_abbrev and data[\"NewExist\"][i] == 2:\n",
    "        newexist_rate[us_state_abbrev[data[\"State\"][i]]] += 1\n",
    "\n",
    "for state in us_state_abbrev:\n",
    "    newexist_rate[us_state_abbrev[state]] = newexist_rate[us_state_abbrev[state]] / data[\"State\"].value_counts()[state]"
   ]
  },
  {
   "cell_type": "code",
   "execution_count": 192,
   "metadata": {},
   "outputs": [
    {
     "data": {
      "text/plain": [
       "{'Alabama': 0.33663008081051743,\n",
       " 'Alaska': 0.22957687473816507,\n",
       " 'Arizona': 0.20775703088981098,\n",
       " 'Arkansas': 0.32738569380277205,\n",
       " 'California': 0.1458058331761896,\n",
       " 'Colorado': 0.2038716000980152,\n",
       " 'Connecticut': 0.1847772072221302,\n",
       " 'Delaware': 0.2816196542311192,\n",
       " 'District of Columbia': 0.25701809107922646,\n",
       " 'Florida': 0.24272538962319984,\n",
       " 'Georgia': 0.31387378870243443,\n",
       " 'Hawaii': 0.2997488138431482,\n",
       " 'Idaho': 0.2557818799066412,\n",
       " 'Illinois': 0.278118609406953,\n",
       " 'Indiana': 0.2951356740972865,\n",
       " 'Iowa': 0.3070978580428391,\n",
       " 'Kansas': 0.2919014084507042,\n",
       " 'Kentucky': 0.3188822146774615,\n",
       " 'Louisiana': 0.32701222081753056,\n",
       " 'Maine': 0.276620958185204,\n",
       " 'Maryland': 0.2991122239927157,\n",
       " 'Massachusetts': 0.21241059817945385,\n",
       " 'Michigan': 0.26802807913209953,\n",
       " 'Minnesota': 0.20994270167772786,\n",
       " 'Mississippi': 0.3359580052493438,\n",
       " 'Missouri': 0.29669099756691,\n",
       " 'Montana': 0.2262698230291887,\n",
       " 'Nebraska': 0.3418141592920354,\n",
       " 'Nevada': 0.2351460221550856,\n",
       " 'New Hampshire': 0.15824412911791552,\n",
       " 'New Jersey': 0.2692404426559356,\n",
       " 'New Mexico': 0.2666110183639399,\n",
       " 'New York': 0.24738992283250114,\n",
       " 'North Carolina': 0.3284928803045256,\n",
       " 'North Dakota': 0.24120122417750575,\n",
       " 'Ohio': 0.26323106868106405,\n",
       " 'Oklahoma': 0.3447680909367705,\n",
       " 'Oregon': 0.20742298199104123,\n",
       " 'Pennsylvania': 0.23731339006848334,\n",
       " 'Rhode Island': 0.15680374456703444,\n",
       " 'South Carolina': 0.31879617949180034,\n",
       " 'South Dakota': 0.29466941203385955,\n",
       " 'Tennessee': 0.3193683532065743,\n",
       " 'Texas': 0.27360066833751046,\n",
       " 'Utah': 0.2687613745851622,\n",
       " 'Vermont': 0.21970534069981584,\n",
       " 'Virginia': 0.30378758297540026,\n",
       " 'Washington': 0.23593205574912893,\n",
       " 'West Virginia': 0.3848271642704191,\n",
       " 'Wisconsin': 0.26739524673093445,\n",
       " 'Wyoming': 0.274822695035461}"
      ]
     },
     "execution_count": 192,
     "metadata": {},
     "output_type": "execute_result"
    }
   ],
   "source": [
    "newexist_rate"
   ]
  },
  {
   "cell_type": "code",
   "execution_count": 195,
   "metadata": {},
   "outputs": [
    {
     "data": {
      "text/plain": [
       "0.3848271642704191"
      ]
     },
     "execution_count": 195,
     "metadata": {},
     "output_type": "execute_result"
    }
   ],
   "source": [
    "max(newexist_rate.values())"
   ]
  },
  {
   "cell_type": "code",
   "execution_count": 188,
   "metadata": {},
   "outputs": [
    {
     "data": {
      "image/png": "[encoded data removed]",
      "text/plain": [
       "<Figure size 720x720 with 2 Axes>"
      ]
     },
     "metadata": {
      "needs_background": "light"
     },
     "output_type": "display_data"
    }
   ],
   "source": [
    "fig = plt.figure(figsize=(10, 10))\n",
    "\n",
    "ax = fig.add_axes([0, 0, 1, 1], projection=ccrs.LambertConformal())\n",
    "ax.set_extent([-125, -66.5, 20, 50], ccrs.Geodetic())\n",
    "\n",
    "cm = plt.get_cmap('Blues')\n",
    "sm = plt.cm.ScalarMappable(cmap=cm, norm=plt.Normalize(0,0.3))\n",
    "plt.colorbar(sm, ax=ax, fraction=0.0257, pad=0.01)\n",
    "\n",
    "#ax.background_patch.set_visible(False)\n",
    "#ax.outline_patch.set_visible(False)\n",
    "\n",
    "ax.set_title('State Default Rate')\n",
    "\n",
    "\n",
    "for astate in shpreader.Reader(states_shp).records():\n",
    "\n",
    "\n",
    "    edgecolor = 'black'\n",
    "\n",
    "    try:\n",
    "        state_default_rate = default_rate[astate.attributes['name']]\n",
    "    except:\n",
    "        state_default_rate = 0\n",
    "        \n",
    "    facecolor = cm(1.*state_default_rate/0.3)\n",
    "\n",
    "    ax.add_geometries([astate.geometry], ccrs.PlateCarree(),\n",
    "                      facecolor=facecolor, edgecolor=edgecolor)\n",
    "\n",
    "\n",
    "\n",
    "plt.show()"
   ]
  },
  {
   "cell_type": "code",
   "execution_count": 191,
   "metadata": {},
   "outputs": [
    {
     "data": {
      "image/png": "[encoded data removed]",
      "text/plain": [
       "<Figure size 720x720 with 2 Axes>"
      ]
     },
     "metadata": {
      "needs_background": "light"
     },
     "output_type": "display_data"
    }
   ],
   "source": [
    "fig = plt.figure(figsize=(10, 10))\n",
    "\n",
    "ax = fig.add_axes([0, 0, 1, 1], projection=ccrs.LambertConformal())\n",
    "ax.set_extent([-125, -66.5, 20, 50], ccrs.Geodetic())\n",
    "\n",
    "cm = plt.get_cmap('Blues')\n",
    "sm = plt.cm.ScalarMappable(cmap=cm, norm=plt.Normalize(0,0.4))\n",
    "plt.colorbar(sm, ax=ax, fraction=0.0257, pad=0.01)\n",
    "\n",
    "#ax.background_patch.set_visible(False)\n",
    "#ax.outline_patch.set_visible(False)\n",
    "\n",
    "ax.set_title('State NewExist Rate')\n",
    "\n",
    "#for state in shpreader.Reader(states_shp).geometries():\n",
    "for astate in shpreader.Reader(states_shp).records():\n",
    "\n",
    "    ### You want to replace the following code with code that sets the\n",
    "    ### facecolor as a gradient based on the population density above\n",
    "    #facecolor = [0.9375, 0.9375, 0.859375]\n",
    "\n",
    "    edgecolor = 'black'\n",
    "\n",
    "    try:\n",
    "        # use the name of this state to get pop_density\n",
    "        state_newexist_rate = newexist_rate[astate.attributes['name']]\n",
    "    except:\n",
    "        state_newexist_rate = 0\n",
    "        \n",
    "    facecolor = cm(1.*state_newexist_rate/0.4)\n",
    "\n",
    "    # `astate.geometry` is the polygon to plot\n",
    "    ax.add_geometries([astate.geometry], ccrs.PlateCarree(),\n",
    "                      facecolor=facecolor, edgecolor=edgecolor)\n",
    "\n",
    "\n",
    "\n",
    "plt.show()"
   ]
  }
 ],
 "metadata": {
  "kernelspec": {
   "display_name": "Python 3",
   "language": "python",
   "name": "python3"
  },
  "language_info": {
   "codemirror_mode": {
    "name": "ipython",
    "version": 3
   },
   "file_extension": ".py",
   "mimetype": "text/x-python",
   "name": "python",
   "nbconvert_exporter": "python",
   "pygments_lexer": "ipython3",
   "version": "3.9.0"
  }
 },
 "nbformat": 4,
 "nbformat_minor": 4
}
